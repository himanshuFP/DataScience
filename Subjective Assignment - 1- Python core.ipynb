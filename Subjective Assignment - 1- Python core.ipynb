{
 "cells": [
  {
   "cell_type": "markdown",
   "metadata": {},
   "source": [
    "Q1. Write a Python program to get the string from the given string where\n",
    "all the occurrence of its first char has been changed to '$,' except first\n",
    "char itself?\n",
    "\n",
    "    Sample String: 'prospect'\n",
    "    Expected Result : 'pros$ect'\n"
   ]
  },
  {
   "cell_type": "code",
   "execution_count": 1,
   "metadata": {},
   "outputs": [
    {
     "name": "stdout",
     "output_type": "stream",
     "text": [
      "Enter the String\n",
      "prospect\n",
      " pros$ect\n"
     ]
    }
   ],
   "source": [
    "x=input('Enter the String\\n')\n",
    "ls=list(x)\n",
    "Str=\" \"\n",
    "\n",
    "for i in range(len(ls)):\n",
    "    if ls[i] == ls[0] and i>0:\n",
    "        ls[i]='$'\n",
    "\n",
    "for j in ls:\n",
    "    Str=Str+j\n",
    "print(Str)"
   ]
  },
  {
   "cell_type": "markdown",
   "metadata": {},
   "source": [
    "Q2. Write a Python program to get the single string from the two given\n",
    "strings, and separated by the space and swap the first two characters of\n",
    "each string?\n",
    "\n",
    "    Sample String : 'abc', 'xyz'.\n",
    "    Expected Result: 'xyc abz'"
   ]
  },
  {
   "cell_type": "code",
   "execution_count": 2,
   "metadata": {},
   "outputs": [
    {
     "name": "stdout",
     "output_type": "stream",
     "text": [
      "Enter first String\n",
      "abc\n",
      "Enter Second String\n",
      "xyz\n",
      "['x', 'y', 'c', ' ', 'a', 'b', 'z']\n",
      "xyc abz"
     ]
    }
   ],
   "source": [
    "first=input(\"Enter first String\\n\")\n",
    "Second=input(\"Enter Second String\\n\")\n",
    "\n",
    "newlist=[list(first),list(Second)]\n",
    "\n",
    "ls=[newlist[0],newlist[1]]\n",
    "\n",
    "x=ls[0][0:2]\n",
    "y=ls[1][0:2]\n",
    "\n",
    "Str1=ls[0][2:int(len(ls[0]))]\n",
    "\n",
    "Str2=ls[1][2:int(len(ls[1]))]\n",
    "\n",
    "li_spac=[' ']\n",
    "\n",
    "final=y+Str1+li_spac+x+Str2\n",
    "print(final)\n",
    "\n",
    "Str=\"\"\n",
    "for i in final:\n",
    "    Str=Str+i\n",
    "print(Str,end='')\n",
    "\n"
   ]
  },
  {
   "cell_type": "markdown",
   "metadata": {},
   "source": [
    "Q3. Write the Python program to add 'ing' at the end of the given string\n",
    "(length of the string should be at least 3). If given string already ends\n",
    "with 'ing,' then add 'ly' instead. If string length of the given string is less\n",
    "than 3, leave it unchanged?\n",
    "\n",
    "\n",
    "    Sample string: ' abc '\n",
    "    Expected result: ' abcing '\n",
    "    Sample string: ' string '\n",
    "    Expected result: ' stringly '\n"
   ]
  },
  {
   "cell_type": "code",
   "execution_count": 3,
   "metadata": {},
   "outputs": [
    {
     "name": "stdout",
     "output_type": "stream",
     "text": [
      "Enter the String \n",
      "abc\n",
      "abcing\n"
     ]
    }
   ],
   "source": [
    "ip=input('Enter the String \\n')\n",
    "#print(len(ip))\n",
    "#print(ip[-3:])\n",
    "\n",
    "if ip[-3:]!='ing':\n",
    "    ip=ip+'ing'\n",
    "    print(ip)\n",
    "\n",
    "elif ip[-3:]=='ing'and len(ip)>=3:\n",
    "    ip=ip+\"ly\"\n",
    "    print(ip)\n",
    "else:\n",
    "    print(ip)\n",
    "    \n",
    "    \n"
   ]
  },
  {
   "cell_type": "markdown",
   "metadata": {},
   "source": [
    "Q4. Write the Python program to find the first appearance of the\n",
    "substring 'not' and 'poor' from the given string, if 'not' follows the 'poor',\n",
    "replace the whole 'not'...' poor' substring with 'good'.Return the resulting\n",
    "string.\n",
    "\n",
    "    Sample string: 'The lyrics are not that poor!'\n",
    "    'The lyrics are poor!'\n",
    "    Expected Result: 'The lyrics are good!'\n",
    "    'The lyrics are poor!'"
   ]
  },
  {
   "cell_type": "code",
   "execution_count": 4,
   "metadata": {},
   "outputs": [
    {
     "name": "stdout",
     "output_type": "stream",
     "text": [
      "The lyrics are good!\n"
     ]
    }
   ],
   "source": [
    "ip='The lyrics are not that poor!'\n",
    "x=ip[15:28:1]\n",
    "ff='good'\n",
    "s_ip=ip.split()\n",
    "not_index=ip.find(\"not\")\n",
    "poor_index=ip.find(\"poor\")\n",
    "l=len(ip)\n",
    "Str1=ip.replace(str(x),'good')\n",
    "print(Str1)\n",
    "\n",
    "        \n",
    "    \n",
    "\n",
    "       \n",
    "    "
   ]
  },
  {
   "cell_type": "markdown",
   "metadata": {},
   "source": [
    "Q5. Write the Python program to remove the characters which have odd\n",
    "index values of a given string."
   ]
  },
  {
   "cell_type": "code",
   "execution_count": 5,
   "metadata": {},
   "outputs": [
    {
     "name": "stdout",
     "output_type": "stream",
     "text": [
      "h o r o on\n"
     ]
    }
   ],
   "source": [
    "Str ='hi how are you doing'\n",
    "x=list(Str)\n",
    "y=[]\n",
    "l=len(x)\n",
    "#print(l)\n",
    "Str1=''\n",
    "for i in range(l):\n",
    "    if (i%2)==0:\n",
    "        #print(x[i])\n",
    "        Str1=Str1+x[i]\n",
    "        #print(i,x[i])\n",
    "print(Str1)\n",
    "        \n",
    "\n",
    "        "
   ]
  },
  {
   "cell_type": "markdown",
   "metadata": {},
   "source": [
    "Q6. Write the python program to print the following floating numbers up\n",
    "to 2 decimal places?"
   ]
  },
  {
   "cell_type": "code",
   "execution_count": 6,
   "metadata": {},
   "outputs": [
    {
     "name": "stdout",
     "output_type": "stream",
     "text": [
      "12.68\n",
      "23.79\n",
      "1.80\n",
      "4.79\n",
      "2.90\n",
      "1.88\n"
     ]
    }
   ],
   "source": [
    "ls=[12.676769,23.789798,1.798,4.78979,2.8979,1.88098]\n",
    "ls\n",
    "for i in ls:\n",
    "    print(\"{:.2f}\".format(i))\n"
   ]
  },
  {
   "cell_type": "markdown",
   "metadata": {},
   "source": [
    "Q7. Write the Python program to format a number with a percentage?"
   ]
  },
  {
   "cell_type": "code",
   "execution_count": 7,
   "metadata": {},
   "outputs": [
    {
     "name": "stdout",
     "output_type": "stream",
     "text": [
      "67.68%\n",
      "78.98%\n",
      "98.00%\n",
      "89.79%\n",
      "9.79%\n",
      "88.10%\n"
     ]
    }
   ],
   "source": [
    "ls=[0.676769,0.789798,0.98,0.8979,0.0979,0.88098]\n",
    "ls\n",
    "for i in ls:\n",
    "    print(\"{:.2%}\".format(i))"
   ]
  },
  {
   "cell_type": "markdown",
   "metadata": {},
   "source": [
    "Q8. Write the Python program to count occurrences of a substring in a\n",
    "String?"
   ]
  },
  {
   "cell_type": "code",
   "execution_count": 8,
   "metadata": {},
   "outputs": [
    {
     "name": "stdout",
     "output_type": "stream",
     "text": [
      "Enter the String to checkhi\n",
      "2\n"
     ]
    }
   ],
   "source": [
    "ip='hi how are you doing today hi how how'\n",
    "Str_chk=input(\"Enter the String to check\\n\")\n",
    "#print(Str_chk)\n",
    "count=0\n",
    "brk=ip.split()\n",
    "#print(brk)\n",
    "for i in brk:\n",
    "    if i==Str_chk:\n",
    "        count=count+1\n",
    "print(count)\n"
   ]
  },
  {
   "cell_type": "markdown",
   "metadata": {},
   "source": [
    "Q9. Write the Python program to count repeated characters in a string.\n",
    "\n",
    "    Sample string: ' thequickbrownjumpsoverthelazydog '\n",
    "    \n",
    "    Expected output:\n",
    "    o 3\n",
    "    e 3\n",
    "    u 2\n",
    "    h 2\n",
    "    r 2\n",
    "    t 2"
   ]
  },
  {
   "cell_type": "code",
   "execution_count": 9,
   "metadata": {},
   "outputs": [
    {
     "name": "stdout",
     "output_type": "stream",
     "text": [
      "abcdefghijklmnopqrstuvwxyz\n",
      "e 3\n",
      "h 2\n",
      "o 3\n",
      "r 2\n",
      "t 2\n",
      "u 2\n"
     ]
    }
   ],
   "source": [
    "input='thequickbrownjumpsoverthelazydog'\n",
    "import string\n",
    "count=0\n",
    "ls=string.ascii_lowercase\n",
    "print(ls)\n",
    "for i in ls:\n",
    "    #print(i)\n",
    "    for j in input:\n",
    "        if i == j:\n",
    "            count=count+1\n",
    "    if count>1:\n",
    "        print(i+\" \",end='')\n",
    "        print(count)\n",
    "    count=0\n"
   ]
  },
  {
   "cell_type": "markdown",
   "metadata": {},
   "source": [
    "Q10. Write the Python program to print the square and cube symbol in\n",
    "the area of a rectangle and volume of a cylinder?\n",
    "\n",
    "    Sample outputThe area of the rectangle is 1256.66cm2\n",
    "    The volume of the cylinder is 1254.725cm3\n"
   ]
  },
  {
   "cell_type": "code",
   "execution_count": 10,
   "metadata": {},
   "outputs": [
    {
     "name": "stdout",
     "output_type": "stream",
     "text": [
      "1256.66cm2\n",
      "1254.725cm3\n"
     ]
    }
   ],
   "source": [
    "aor=1256.66\n",
    "f_aor=(\"{:.2f}\".format(aor))\n",
    "print(str(f_aor)+'cm2')\n",
    "voc=1254.725\n",
    "f_voc=(\"{:.3f}\".format(voc))\n",
    "print(str(f_voc)+'cm3')"
   ]
  },
  {
   "cell_type": "markdown",
   "metadata": {},
   "source": [
    "Q11. Write the Python program to check if a string contains all letters of\n",
    "the alphabet?"
   ]
  },
  {
   "cell_type": "code",
   "execution_count": 15,
   "metadata": {},
   "outputs": [
    {
     "ename": "TypeError",
     "evalue": "'str' object is not callable",
     "output_type": "error",
     "traceback": [
      "\u001b[1;31m---------------------------------------------------------------------------\u001b[0m",
      "\u001b[1;31mTypeError\u001b[0m                                 Traceback (most recent call last)",
      "\u001b[1;32m<ipython-input-15-af8de306fde5>\u001b[0m in \u001b[0;36m<module>\u001b[1;34m\u001b[0m\n\u001b[1;32m----> 1\u001b[1;33m \u001b[0mip\u001b[0m\u001b[1;33m=\u001b[0m\u001b[0minput\u001b[0m\u001b[1;33m(\u001b[0m\u001b[1;34m\"Enter a String\"\u001b[0m\u001b[1;33m)\u001b[0m\u001b[1;33m\u001b[0m\u001b[1;33m\u001b[0m\u001b[0m\n\u001b[0m\u001b[0;32m      2\u001b[0m \u001b[0mls\u001b[0m\u001b[1;33m=\u001b[0m\u001b[0mlist\u001b[0m\u001b[1;33m(\u001b[0m\u001b[0mip\u001b[0m\u001b[1;33m)\u001b[0m\u001b[1;33m\u001b[0m\u001b[1;33m\u001b[0m\u001b[0m\n\u001b[0;32m      3\u001b[0m \u001b[0mdict\u001b[0m\u001b[1;33m=\u001b[0m\u001b[1;33m{\u001b[0m\u001b[1;33m}\u001b[0m\u001b[1;33m\u001b[0m\u001b[1;33m\u001b[0m\u001b[0m\n\u001b[0;32m      4\u001b[0m \u001b[0mprint\u001b[0m\u001b[1;33m(\u001b[0m\u001b[0mls\u001b[0m\u001b[1;33m)\u001b[0m\u001b[1;33m\u001b[0m\u001b[1;33m\u001b[0m\u001b[0m\n\u001b[0;32m      5\u001b[0m \u001b[1;32mimport\u001b[0m \u001b[0mstring\u001b[0m\u001b[1;33m\u001b[0m\u001b[1;33m\u001b[0m\u001b[0m\n",
      "\u001b[1;31mTypeError\u001b[0m: 'str' object is not callable"
     ]
    }
   ],
   "source": [
    "ip=input(\"Enter a String\")\n",
    "ls=list(ip)\n",
    "dict={}\n",
    "print(ls)\n",
    "import string\n",
    "count=0\n",
    "ls1=string.ascii_lowercase\n",
    "print(ls1)\n",
    "\n",
    "dict_alp={}\n",
    "val=1\n",
    "for a in ls1:\n",
    "    dict_alp.update({a:val})\n",
    "\n",
    "\n",
    "print(dict_alp)\n",
    "for i in ls1:\n",
    "    #print(i)\n",
    "    for j in ls:\n",
    "        #print(j)\n",
    "        if i==j:\n",
    "            count=count+1\n",
    "            #print(j,count)\n",
    "            dict.update({j:count})\n",
    "    count=0\n",
    "    #print(count)\n",
    "\n"
   ]
  },
  {
   "cell_type": "markdown",
   "metadata": {},
   "source": [
    "Q12. Write the Python program to find the second most repeated word\n",
    "in a given string?"
   ]
  },
  {
   "cell_type": "code",
   "execution_count": 12,
   "metadata": {},
   "outputs": [
    {
     "name": "stdout",
     "output_type": "stream",
     "text": [
      "{'doing': 4, 'you': 1, 'how': 1, 'are': 1, 'hello': 3}\n",
      "{1, 3, 4}\n",
      "1\n",
      "3\n",
      "4\n",
      "{'doing': 4, 'you': 1, 'how': 1, 'are': 1, 'hello': 3}\n",
      "3\n"
     ]
    },
    {
     "data": {
      "text/plain": [
       "['hello']"
      ]
     },
     "execution_count": 12,
     "metadata": {},
     "output_type": "execute_result"
    }
   ],
   "source": [
    "ip=\"hello hello hello how are you doing doing doing doing\"\n",
    "x=ip.split()\n",
    "dict={}\n",
    "ls=[]\n",
    "ls1=[]\n",
    "y=set(x)\n",
    "count=0\n",
    "for i in y:\n",
    "    #print(i)\n",
    "    for j in x:\n",
    "        #print(j)\n",
    "        if i==j:\n",
    "            count=count+1\n",
    "    #print(i,count)\n",
    "    dict.update({i:count})\n",
    "    ls=ls+[count]\n",
    "    count=0\n",
    "print(dict)\n",
    "print(set(ls))\n",
    "k=str(set(ls))\n",
    "lss=list(k)\n",
    "for i in lss:\n",
    "    if i.isdigit()==True:\n",
    "        print(i)\n",
    "        ls1.append(i)\n",
    "\n",
    "print(dict)\n",
    "print(ls1[1])\n",
    "index=int(ls1[1])\n",
    "[key for key,value in dict.items() if value ==index]\n",
    "\n",
    "\n",
    "\n",
    "\n"
   ]
  },
  {
   "cell_type": "markdown",
   "metadata": {},
   "source": [
    "Q13. Write the Python program to find the minimum window in the given\n",
    "string, which will contains all the characters of another given\n",
    "strings?\n",
    "\n",
    "    Example 1\n",
    "    Input : string1 = \" PRWSOERIUSFK \"\n",
    "    string2 = \" OSU \"\n",
    "    Output: Minimum window is \"OERIUS\""
   ]
  },
  {
   "cell_type": "code",
   "execution_count": null,
   "metadata": {},
   "outputs": [],
   "source": [
    "ip1=\" PRWSOERIUSFK \"\n",
    "ip2=\" OSU \"\n",
    "ip3=ip1+ip2\n",
    "print(ip3)\n",
    "list(ip3)\n",
    "list(set(ip3))"
   ]
  },
  {
   "cell_type": "markdown",
   "metadata": {},
   "source": [
    "Q14. Write the Python program to count number of substrings from a\n",
    "given string of lowercase alphabets with exactly k distinct (given)\n",
    "characters?\n",
    "\n",
    "    Input a string (lowercase alphabets): wolf\n",
    "    Input k: 4\n",
    "    Number of substrings with exactly 4 distinct characters: 1"
   ]
  },
  {
   "cell_type": "code",
   "execution_count": null,
   "metadata": {},
   "outputs": [],
   "source": [
    "######################################\n",
    "#########TOTAL-CHAOS#########################\n",
    "#######################################\n"
   ]
  },
  {
   "cell_type": "markdown",
   "metadata": {},
   "source": [
    "Q15. Write the Python program to count number of substrings with same\n",
    "first and last characters of the given string?\n",
    "\n",
    "    Input a string: abcd\n",
    "    4\n"
   ]
  },
  {
   "cell_type": "code",
   "execution_count": 16,
   "metadata": {},
   "outputs": [
    {
     "name": "stdout",
     "output_type": "stream",
     "text": [
      "['hi', 'how', 'are', 'you', 'ababab', 'madam', 'cacacacac', 'fefef', 'ojkl']\n",
      "first last matching word\n",
      "['m', 'a', 'd', 'a', 'm']\n",
      "first last matching word\n",
      "['c', 'a', 'c', 'a', 'c', 'a', 'c', 'a', 'c']\n",
      "first last matching word\n",
      "['f', 'e', 'f', 'e', 'f']\n",
      "3\n"
     ]
    }
   ],
   "source": [
    "ip=\"hi how are you ababab madam cacacacac fefef ojkl\"\n",
    "ip_split=ip.split()\n",
    "print(ip_split)\n",
    "count=0\n",
    "dict={}\n",
    "for i in ip_split:\n",
    "    #print(i)\n",
    "    k=len(i)-1\n",
    "    x=list(i)\n",
    "   \n",
    "    if x[0]==x[k]:\n",
    "        print(\"first last matching word\")\n",
    "        print(x)\n",
    "        count=count+1\n",
    "        \n",
    "print(count)\n",
    "    \n",
    "        "
   ]
  },
  {
   "cell_type": "markdown",
   "metadata": {},
   "source": [
    "## Great Job!"
   ]
  }
 ],
 "metadata": {
  "kernelspec": {
   "display_name": "Python 3",
   "language": "python",
   "name": "python3"
  },
  "language_info": {
   "codemirror_mode": {
    "name": "ipython",
    "version": 3
   },
   "file_extension": ".py",
   "mimetype": "text/x-python",
   "name": "python",
   "nbconvert_exporter": "python",
   "pygments_lexer": "ipython3",
   "version": "3.7.4"
  }
 },
 "nbformat": 4,
 "nbformat_minor": 2
}
